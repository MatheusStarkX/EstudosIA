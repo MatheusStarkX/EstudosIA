{
  "nbformat": 4,
  "nbformat_minor": 0,
  "metadata": {
    "colab": {
      "provenance": []
    },
    "kernelspec": {
      "name": "python3",
      "display_name": "Python 3"
    },
    "language_info": {
      "name": "python"
    }
  },
  "cells": [
    {
      "cell_type": "markdown",
      "source": [
        "### Links"
      ],
      "metadata": {
        "id": "Zf5CAQNo8rhY"
      }
    },
    {
      "cell_type": "markdown",
      "source": [
        "[Matplotlib Pyplot Documentation](https://www.youtube.com/redirect?event=video_description&redir_token=QUFFLUhqbmI0TmxNZEZDQ25PQjRSYklGbzBIYWdnRFoyQXxBQ3Jtc0ttbmtpYWVGcGYzeVpGWl9WX1ZfbEQ5UmZ1ZmRGMUt3SzFJYlFURFc3YWRDYnNVVDQ4dDhacDFwM01RVVNYeGdrTzVXcGVuU3FSRFdqUm9JQUMwczFzNDI2akZJRkRld3VtZ0JFajEtajhyd25SVEF5SQ&q=https%3A%2F%2Fmatplotlib.org%2Fapi%2F_as_gen%2Fmatplotlib.pyplot.html&v=3Xc3CA655Y4)\n",
        "\n",
        "[Font List](https://www.youtube.com/redirect?event=video_description&redir_token=QUFFLUhqbU5ic3k3N1VSTzZ5UUxDVHpsSzRDSmtCUU9RZ3xBQ3Jtc0tsT1JWbm5ZRkJHOG5fWHRraWtPS01OV1BwbWZFbHRKWkhhME03V0x5MkxVbXBPbnFsdHdZUGJUdXY5SFNYYUxOWmdvRlRZUXZXY0h0N1V0TzZTbEtmMmoyb1U0NVNHNnFqN2VrQ0JIazM3blAtU3N3Zw&q=http%3A%2F%2Fjonathansoma.com%2Flede%2Fdata-studio%2Fmatplotlib%2Flist-all-fonts-available-in-matplotlib-plus-samples%2F&v=3Xc3CA655Y4)\n",
        "\n",
        "[Matplotlib Style Options](https://www.youtube.com/redirect?event=video_description&redir_token=QUFFLUhqbUw4M1ViZlU2M2dJQkFKUWp3aE0yMUhCbXFyUXxBQ3Jtc0tuclE3eWJzV0xXdUg1d1g2LTAxOWxtREU0aFRaZ2E0NlcxZnZzX2VMOWVqU2NHbVBMOGloNVF5MzltcFRKZnlSOEc4WFhwRXZSSFBmUE12SXZTMlBCQWFmQ2pOZlRjemJwUWprTld0U2ItaXZXYXNPZw&q=https%3A%2F%2Fmatplotlib.org%2F3.1.0%2Fgallery%2Fstyle_sheets%2Fstyle_sheets_reference.html&v=3Xc3CA655Y4)\n",
        "\n",
        "[Kaggle Data Link](https://www.youtube.com/redirect?event=video_description&redir_token=QUFFLUhqbFlfMEVMcmpOTXp4OEloSllZdjZ1NFprVEg2QXxBQ3Jtc0trcnYwcGpKWnFodW0tWkEtem44NHRua2liRnJmdkthU2M3emQxYjliLU5oSUNxd2ZIRFV0WlF4NHJ4RVlpM2tTSVdCOXpQQlcteFJtcGFZWXJQQVNPalpzdW9pTXU1cnpXRUtsVWNKQ1Y0VUhMcjJiUQ&q=https%3A%2F%2Fwww.kaggle.com%2Fkarangadiya%2Ffifa19&v=3Xc3CA655Y4)\n"
      ],
      "metadata": {
        "id": "bMbHW3vm81AK"
      }
    },
    {
      "cell_type": "markdown",
      "source": [
        "### Load Necessary Libraries"
      ],
      "metadata": {
        "id": "MLrTjtUogOun"
      }
    },
    {
      "cell_type": "code",
      "execution_count": null,
      "metadata": {
        "id": "KGYCc_KGfRrB"
      },
      "outputs": [],
      "source": [
        "import matplotlib.pyplot as plt\n",
        "import numpy as np\n",
        "import pandas as pd"
      ]
    },
    {
      "cell_type": "markdown",
      "source": [
        "### Basic Graph"
      ],
      "metadata": {
        "id": "NfdDwkioqsji"
      }
    },
    {
      "cell_type": "code",
      "source": [
        "x = [0,1,2,3,4]\n",
        "y = [0,2,4,6,8]\n",
        "\n",
        "# Resize your Graph (dpi specifies pixels per inch. When saving probably should use 300 if possible)\n",
        "plt.figure(figsize=(8,5), dpi=100)\n",
        "\n",
        "# Line 1\n",
        "\n",
        "# Keyword Argument Notation\n",
        "#plt.plot(x,y, label='2x', color='red', linewidth=2, marker='.', linestyle='--', markersize=10, markeredgecolor='blue')\n",
        "\n",
        "# Shorthand notation\n",
        "# fmt = '[color][marker][line]'\n",
        "plt.plot(x,y, 'b^--', label='2x')\n",
        "\n",
        "## Line 2\n",
        "\n",
        "# select interval we want to plot points at\n",
        "x2 = np.arange(0,4.5,0.5)\n",
        "\n",
        "# Plot part of the graph as line\n",
        "plt.plot(x2[:6], x2[:6]**2, 'r', label='X^2')\n",
        "\n",
        "# Plot remainder of graph as a dot\n",
        "plt.plot(x2[5:], x2[5:]**2, 'r--')\n",
        "\n",
        "# Add a title (specify font parameters with fontdict)\n",
        "plt.title('Our First Graph!', fontdict={'fontname': 'sans-serif', 'fontsize': 20})\n",
        "\n",
        "# X and Y labels\n",
        "plt.xlabel('X Axis')\n",
        "plt.ylabel('Y Axis')\n",
        "\n",
        "# X, Y axis Tickmarks (scale of your graph)\n",
        "plt.xticks([0,1,2,3,4,])\n",
        "#plt.yticks([0,2,4,6,8,10])\n",
        "\n",
        "# Add a legend\n",
        "plt.legend()\n",
        "\n",
        "# Save figure (dpi 300 is good when saving so graph has high resolution)\n",
        "#plt.savefig('mygraph.png', dpi=300)\n",
        "\n",
        "# Show plot\n",
        "plt.show()"
      ],
      "metadata": {
        "id": "7-iEQ7hCgWvu"
      },
      "execution_count": null,
      "outputs": []
    },
    {
      "cell_type": "markdown",
      "source": [
        "### Bar Chart"
      ],
      "metadata": {
        "id": "i3rzEIwasE6y"
      }
    },
    {
      "cell_type": "code",
      "source": [
        "labels = ['A', 'B', 'C']\n",
        "values = [1,4,2]\n",
        "\n",
        "plt.figure(figsize=(5,3), dpi=100)\n",
        "\n",
        "bars = plt.bar(labels, values)\n",
        "\n",
        "patterns = ['/', 'O', '*']\n",
        "for bar in bars:\n",
        "    bar.set_hatch(patterns.pop(0))\n",
        "\n",
        "#plt.savefig('barchart.png', dpi=300)\n",
        "\n",
        "plt.show()"
      ],
      "metadata": {
        "id": "VXx9Z8-4sG5G"
      },
      "execution_count": null,
      "outputs": []
    },
    {
      "cell_type": "markdown",
      "source": [
        "## Real World Examples\n",
        "\n"
      ],
      "metadata": {
        "id": "QphtBFVDta_f"
      }
    },
    {
      "cell_type": "markdown",
      "source": [
        "### Line Graph"
      ],
      "metadata": {
        "id": "ElHAUGk8uHGm"
      }
    },
    {
      "cell_type": "code",
      "source": [
        "gas = pd.read_csv('gas_prices.csv')\n",
        "# print(gas)\n",
        "\n",
        "plt.figure(figsize=(8,5))\n",
        "\n",
        "plt.title('Gas Prices over Time (in USD)', fontdict={'fontweight':'bold', 'fontsize': 18})\n",
        "\n",
        "plt.plot(gas.Year, gas.USA, 'b.-', label='United States')\n",
        "plt.plot(gas.Year, gas.Canada, 'r.-', label='Canada')\n",
        "plt.plot(gas.Year, gas['South Korea'], 'g.-', label='South Korea')\n",
        "plt.plot(gas.Year, gas.Germany, 'y.-', label='Germany')\n",
        "\n",
        "# Another way to plot many values!\n",
        "# countries_to_look_at = ['Australia', 'USA', 'Canada', 'South Korea']\n",
        "# for country in gas:\n",
        "#     if country in countries_to_look_at:\n",
        "#         plt.plot(gas.Year, gas[country], marker='.')\n",
        "\n",
        "plt.xticks(gas.Year[::3].tolist()+[2011])\n",
        "\n",
        "plt.xlabel('Year')\n",
        "plt.ylabel('US Dollars')\n",
        "\n",
        "plt.legend()\n",
        "\n",
        "#plt.savefig('Gas_price_figure.png', dpi=300)\n",
        "\n",
        "plt.show()"
      ],
      "metadata": {
        "id": "aSTnsdttuIod"
      },
      "execution_count": null,
      "outputs": []
    },
    {
      "cell_type": "markdown",
      "source": [
        "### Load Fifa Data"
      ],
      "metadata": {
        "id": "Bgk0w7qXzLDA"
      }
    },
    {
      "cell_type": "code",
      "source": [
        "fifa =pd.read_csv('fifa_data.csv')\n",
        "fifa.head(5)"
      ],
      "metadata": {
        "id": "zARCbTAnzQ3g"
      },
      "execution_count": null,
      "outputs": []
    },
    {
      "cell_type": "markdown",
      "source": [
        "### Histograms"
      ],
      "metadata": {
        "id": "NKnWbT3H_KjO"
      }
    },
    {
      "cell_type": "code",
      "source": [
        "bins = [40,50,60,70,80,90,100]\n",
        "\n",
        "plt.figure(figsize=(8,5))\n",
        "\n",
        "plt.hist(fifa.Overall, bins=bins, color='#abcdef')\n",
        "\n",
        "plt.xticks(bins)\n",
        "\n",
        "plt.ylabel('Number of Players')\n",
        "plt.xlabel('Skill Level')\n",
        "plt.title('Distribution of Player Skills in FIFA 2018')\n",
        "\n",
        "#plt.savefig('histogram.png', dpi=300)\n",
        "\n",
        "plt.show()"
      ],
      "metadata": {
        "id": "NlQLsptezmLO"
      },
      "execution_count": null,
      "outputs": []
    },
    {
      "cell_type": "markdown",
      "source": [
        "### Pie Chart"
      ],
      "metadata": {
        "id": "sV01UOTx078r"
      }
    },
    {
      "cell_type": "code",
      "source": [
        "left = fifa.loc[fifa['Preferred Foot'] == 'Left'].count()[0]\n",
        "right = fifa.loc[fifa['Preferred Foot'] == 'Right'].count()[0]\n",
        "\n",
        "plt.figure(figsize=(8,5))\n",
        "\n",
        "labels = ['Left', 'Right']\n",
        "colors = ['#c79818', '#4dc718']\n",
        "\n",
        "plt.pie([left, right], labels = labels, colors=colors, autopct='%.2f%%')\n",
        "\n",
        "plt.title('Foot Preference of FIFA Players')\n",
        "\n",
        "plt.show()"
      ],
      "metadata": {
        "id": "fIeKrDiX08-t"
      },
      "execution_count": null,
      "outputs": []
    },
    {
      "cell_type": "markdown",
      "source": [
        "### Pie Chart 2"
      ],
      "metadata": {
        "id": "eHOu7SWi2smk"
      }
    },
    {
      "cell_type": "code",
      "source": [
        "plt.figure(figsize=(8,5), dpi=100)\n",
        "\n",
        "plt.style.use('ggplot')\n",
        "\n",
        "fifa.Weight = [int(x.strip('lbs')) if type(x)==str else x for x in fifa.Weight]\n",
        "\n",
        "light = fifa.loc[fifa.Weight < 125].count()[0]\n",
        "light_medium = fifa[(fifa.Weight >= 125) & (fifa.Weight < 150)].count()[0]\n",
        "medium = fifa[(fifa.Weight >= 150) & (fifa.Weight < 175)].count()[0]\n",
        "medium_heavy = fifa[(fifa.Weight >= 175) & (fifa.Weight < 200)].count()[0]\n",
        "heavy = fifa[fifa.Weight >= 200].count()[0]\n",
        "\n",
        "weights = [light,light_medium, medium, medium_heavy, heavy]\n",
        "label = ['under 125', '125-150', '150-175', '175-200', 'over 200']\n",
        "explode = (.4,.2,0,0,.4)\n",
        "\n",
        "plt.title('Weight of Professional Soccer Players (lbs)')\n",
        "\n",
        "plt.pie(weights, labels=label, explode=explode, autopct='%.2f %%')\n",
        "plt.show()"
      ],
      "metadata": {
        "id": "FvVDdbVQ2wCY"
      },
      "execution_count": null,
      "outputs": []
    },
    {
      "cell_type": "markdown",
      "source": [
        "### Box and Whiskers Chart"
      ],
      "metadata": {
        "id": "zef8QlXg5Tre"
      }
    },
    {
      "cell_type": "code",
      "source": [
        "plt.figure(figsize=(5,8), dpi=100)\n",
        "\n",
        "plt.style.use('default')\n",
        "\n",
        "barcelona = fifa.loc[fifa.Club == \"FC Barcelona\"]['Overall']\n",
        "madrid = fifa.loc[fifa.Club == \"Real Madrid\"]['Overall']\n",
        "revs = fifa.loc[fifa.Club == \"New England Revolution\"]['Overall']\n",
        "\n",
        "#bp = plt.boxplot([barcelona, madrid, revs], labels=['a','b','c'], boxprops=dict(facecolor='red'))\n",
        "bp = plt.boxplot([barcelona, madrid, revs], labels=['FC Barcelona','Real Madrid','NE Revolution'], patch_artist=True, medianprops={'linewidth': 2})\n",
        "\n",
        "plt.title('Professional Soccer Team Comparison')\n",
        "plt.ylabel('FIFA Overall Rating')\n",
        "\n",
        "for box in bp['boxes']:\n",
        "    # change outline color\n",
        "    box.set(color='#4286f4', linewidth=2)\n",
        "    # change fill color\n",
        "    box.set(facecolor = '#aaaaaa' )\n",
        "    # change hatch\n",
        "    #box.set(hatch = '/')\n",
        "\n",
        "plt.show()"
      ],
      "metadata": {
        "id": "OrgjJic35Y26"
      },
      "execution_count": null,
      "outputs": []
    }
  ]
}