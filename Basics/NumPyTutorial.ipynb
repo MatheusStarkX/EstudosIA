{
  "nbformat": 4,
  "nbformat_minor": 0,
  "metadata": {
    "colab": {
      "provenance": []
    },
    "kernelspec": {
      "name": "python3",
      "display_name": "Python 3"
    },
    "language_info": {
      "name": "python"
    }
  },
  "cells": [
    {
      "cell_type": "code",
      "execution_count": null,
      "metadata": {
        "id": "Zs0GHbbsvmWV"
      },
      "outputs": [],
      "source": [
        "import numpy as np"
      ]
    },
    {
      "cell_type": "markdown",
      "source": [
        "## The basics"
      ],
      "metadata": {
        "id": "gD2lHLtDy1Q8"
      }
    },
    {
      "cell_type": "code",
      "source": [
        "a = np.array([1,2,3], dtype='int32')\n",
        "print(a)"
      ],
      "metadata": {
        "id": "OyB6RRnCyZhU"
      },
      "execution_count": null,
      "outputs": []
    },
    {
      "cell_type": "code",
      "source": [
        "b = np.array([[9.0,8.0,7.0],[6.0,5.0,4.0]])\n",
        "print(b)"
      ],
      "metadata": {
        "id": "tFBVofTRyeuD"
      },
      "execution_count": null,
      "outputs": []
    },
    {
      "cell_type": "code",
      "source": [
        "# Get Dimention\n",
        "a.ndim"
      ],
      "metadata": {
        "id": "PfcKxXinyl9h"
      },
      "execution_count": null,
      "outputs": []
    },
    {
      "cell_type": "code",
      "source": [
        "# Get Shape\n",
        "b.shape"
      ],
      "metadata": {
        "id": "wr9MKGFGzFpq"
      },
      "execution_count": null,
      "outputs": []
    },
    {
      "cell_type": "code",
      "source": [
        "# Get Tyoe\n",
        "a.dtype"
      ],
      "metadata": {
        "id": "R7iJNFFvzMJo"
      },
      "execution_count": null,
      "outputs": []
    },
    {
      "cell_type": "code",
      "source": [
        "# Get Size\n",
        "b.itemsize"
      ],
      "metadata": {
        "id": "xNCvWt8HzQYR"
      },
      "execution_count": null,
      "outputs": []
    },
    {
      "cell_type": "markdown",
      "source": [
        "## Accessing/Changing specific elements, rows, columns, etc"
      ],
      "metadata": {
        "id": "26BzihXUz-xP"
      }
    },
    {
      "cell_type": "code",
      "source": [
        "a = np.array([[1,2,3,4,5,6,7], [8,9,10,11,12,13,14]])\n",
        "print(a)"
      ],
      "metadata": {
        "id": "juJjxAJo0GdO"
      },
      "execution_count": null,
      "outputs": []
    },
    {
      "cell_type": "code",
      "source": [
        "# Get a specific element [r,c]\n",
        "a[1,5]"
      ],
      "metadata": {
        "id": "fbhqYcp10Sp0"
      },
      "execution_count": null,
      "outputs": []
    },
    {
      "cell_type": "code",
      "source": [
        "# Get a specific row\n",
        "a[0, :]"
      ],
      "metadata": {
        "id": "DGuxXqnt0d93"
      },
      "execution_count": null,
      "outputs": []
    },
    {
      "cell_type": "code",
      "source": [
        "# Get a specific column\n",
        "a[:, 2]"
      ],
      "metadata": {
        "id": "4bj33W040h-K"
      },
      "execution_count": null,
      "outputs": []
    },
    {
      "cell_type": "code",
      "source": [
        "# Getting a little more fancy [startindex:endindex:stepsize]\n",
        "a[0,1:6:2]"
      ],
      "metadata": {
        "id": "CwwQdbgx0n-a"
      },
      "execution_count": null,
      "outputs": []
    },
    {
      "cell_type": "code",
      "source": [
        "a[1,5] = 20\n",
        "print(a)"
      ],
      "metadata": {
        "id": "X1ipZTRL1Dur"
      },
      "execution_count": null,
      "outputs": []
    },
    {
      "cell_type": "code",
      "source": [
        "a[:,2] = 5\n",
        "print(a)"
      ],
      "metadata": {
        "id": "_f2Wn-sx1McX"
      },
      "execution_count": null,
      "outputs": []
    },
    {
      "cell_type": "code",
      "source": [
        "a[:,2] = [1,2]\n",
        "print(a)"
      ],
      "metadata": {
        "id": "OAYwd0u51UoG"
      },
      "execution_count": null,
      "outputs": []
    },
    {
      "cell_type": "markdown",
      "source": [
        "3D example\n"
      ],
      "metadata": {
        "id": "jPEx4DRQ1wPn"
      }
    },
    {
      "cell_type": "code",
      "source": [
        "b = np.array([[[1,2],[3,4]],[[5,6],[7,8]]])\n",
        "print(b)"
      ],
      "metadata": {
        "id": "fVDGI3Gm1aBc"
      },
      "execution_count": null,
      "outputs": []
    },
    {
      "cell_type": "code",
      "source": [
        "# Get specific element  (work outside in)\n",
        "b[0,1,1]"
      ],
      "metadata": {
        "id": "h4nH0J701oef"
      },
      "execution_count": null,
      "outputs": []
    },
    {
      "cell_type": "code",
      "source": [
        "# Replace\n",
        "b[:,1,:] = [[9,9],[8,8]]\n",
        "print(b)"
      ],
      "metadata": {
        "id": "4md6xHkL2Bqu"
      },
      "execution_count": null,
      "outputs": []
    },
    {
      "cell_type": "markdown",
      "source": [
        "## Initializing Different Types of Arrays"
      ],
      "metadata": {
        "id": "cVoSc3h42ZP_"
      }
    },
    {
      "cell_type": "code",
      "source": [
        "# All 0s matrix\n",
        "np.zeros((2,3))"
      ],
      "metadata": {
        "id": "snQY06oC2d16"
      },
      "execution_count": null,
      "outputs": []
    },
    {
      "cell_type": "code",
      "source": [
        "# All 1s matrix\n",
        "np.ones((4,2,2), dtype='int16')"
      ],
      "metadata": {
        "id": "ZhCj0mpW2m6g"
      },
      "execution_count": null,
      "outputs": []
    },
    {
      "cell_type": "code",
      "source": [
        "# Any other number\n",
        "np.full((2,2), 99)"
      ],
      "metadata": {
        "id": "9hxVyyGL2w08"
      },
      "execution_count": null,
      "outputs": []
    },
    {
      "cell_type": "code",
      "source": [
        "# Any other number (full_like)\n",
        "np.full_like(a,4)"
      ],
      "metadata": {
        "id": "avokS1N928OE"
      },
      "execution_count": null,
      "outputs": []
    },
    {
      "cell_type": "code",
      "source": [
        "# Random decimal numbers\n",
        "np.random.rand(4,2)"
      ],
      "metadata": {
        "id": "t_Op3mVK3SHT"
      },
      "execution_count": null,
      "outputs": []
    },
    {
      "cell_type": "code",
      "source": [
        "# Random integer values\n",
        "np.random.randint(5,14, size=(3,3))"
      ],
      "metadata": {
        "id": "NucTPpI-6Q7I"
      },
      "execution_count": null,
      "outputs": []
    },
    {
      "cell_type": "code",
      "source": [
        "# The identity matrix\n",
        "np.identity(5)"
      ],
      "metadata": {
        "id": "_4dtQs4O6jKA"
      },
      "execution_count": null,
      "outputs": []
    },
    {
      "cell_type": "code",
      "source": [
        "# Repeat an array\n",
        "arr= np.array([[1,2,3]])\n",
        "r1 = np.repeat(arr,3,axis=0)\n",
        "print(r1)"
      ],
      "metadata": {
        "id": "_0je5Dg462Qz"
      },
      "execution_count": null,
      "outputs": []
    },
    {
      "cell_type": "code",
      "source": [
        "out = np.ones((5,5), dtype='int16')\n",
        "z = np.zeros((3,3), dtype='int16')\n",
        "z[1,1] = 9\n",
        "out[1:-1,1:-1] = z\n",
        "print(out)"
      ],
      "metadata": {
        "id": "eDvPkwVL7bn6"
      },
      "execution_count": null,
      "outputs": []
    },
    {
      "cell_type": "markdown",
      "source": [
        "**Careful with copy**"
      ],
      "metadata": {
        "id": "9QiuLVES9EHD"
      }
    },
    {
      "cell_type": "code",
      "source": [
        "a = np.array([1,2,3])\n",
        "b = a.copy()\n",
        "b[0] = 100\n",
        "\n",
        "print(a)\n",
        "print(b)"
      ],
      "metadata": {
        "id": "eaWg720U7j2F"
      },
      "execution_count": null,
      "outputs": []
    },
    {
      "cell_type": "markdown",
      "source": [
        "## Mathematics"
      ],
      "metadata": {
        "id": "ZaWMbNN19Y1F"
      }
    },
    {
      "cell_type": "code",
      "source": [
        "a = np.array([1,2,3,4])\n",
        "print(a)"
      ],
      "metadata": {
        "id": "7h1PBoZE9aWp"
      },
      "execution_count": null,
      "outputs": []
    },
    {
      "cell_type": "code",
      "source": [
        "a+2"
      ],
      "metadata": {
        "id": "4VzxkGV09sIl"
      },
      "execution_count": null,
      "outputs": []
    },
    {
      "cell_type": "code",
      "source": [
        "a/2"
      ],
      "metadata": {
        "id": "ESrbU4fI9s77"
      },
      "execution_count": null,
      "outputs": []
    },
    {
      "cell_type": "code",
      "source": [
        "b = np.array([1,2,2,1])\n",
        "a+b"
      ],
      "metadata": {
        "id": "skR-fVVf9uCD"
      },
      "execution_count": null,
      "outputs": []
    },
    {
      "cell_type": "code",
      "source": [
        "np.cos(a)"
      ],
      "metadata": {
        "id": "aoUSfRat9yl2"
      },
      "execution_count": null,
      "outputs": []
    },
    {
      "cell_type": "markdown",
      "source": [
        "## Linear Algebra"
      ],
      "metadata": {
        "id": "VOZegGhs-CwC"
      }
    },
    {
      "cell_type": "code",
      "source": [
        "a = np.ones((2,3))\n",
        "print(a)\n",
        "\n",
        "b= np.full((3,2), 2)\n",
        "print(b)"
      ],
      "metadata": {
        "id": "KY9wynB--Jsl"
      },
      "execution_count": null,
      "outputs": []
    },
    {
      "cell_type": "code",
      "source": [
        "np.matmul(a,b)"
      ],
      "metadata": {
        "id": "yaMZ-tRg-WG7"
      },
      "execution_count": null,
      "outputs": []
    },
    {
      "cell_type": "code",
      "source": [
        "c = np.identity(3)\n",
        "np.linalg.det(c)"
      ],
      "metadata": {
        "id": "lQC6G57F-fWe"
      },
      "execution_count": null,
      "outputs": []
    },
    {
      "cell_type": "markdown",
      "source": [
        "## Statistics"
      ],
      "metadata": {
        "id": "wyHqoZr1-5Dj"
      }
    },
    {
      "cell_type": "code",
      "source": [
        "stats = np.array([[1,2,3], [4,5,6]])\n",
        "stats"
      ],
      "metadata": {
        "id": "Jwl07MY2-8ji"
      },
      "execution_count": null,
      "outputs": []
    },
    {
      "cell_type": "code",
      "source": [
        "np.min(stats)"
      ],
      "metadata": {
        "id": "eL-OfGo2_CYV"
      },
      "execution_count": null,
      "outputs": []
    },
    {
      "cell_type": "code",
      "source": [
        "np.max(stats)"
      ],
      "metadata": {
        "id": "sBgq94xL_UVj"
      },
      "execution_count": null,
      "outputs": []
    },
    {
      "cell_type": "code",
      "source": [
        "np.sum(stats, axis=0)"
      ],
      "metadata": {
        "id": "YKTConcP_WIh"
      },
      "execution_count": null,
      "outputs": []
    },
    {
      "cell_type": "markdown",
      "source": [
        "## Reorganizing arrays"
      ],
      "metadata": {
        "id": "LrlXt168_mGE"
      }
    },
    {
      "cell_type": "code",
      "source": [
        "before = np.array([[1,2,3,4],[5,6,7,8]])\n",
        "print(before)\n",
        "\n",
        "after = before.reshape((4,2))\n",
        "print(after)"
      ],
      "metadata": {
        "id": "qdI1Fics_pAW"
      },
      "execution_count": null,
      "outputs": []
    },
    {
      "cell_type": "code",
      "source": [
        "# Vertically stacking vectores\n",
        "v1 = np.array([1,2,3,4])\n",
        "v2 = np.array([5,6,7,8])\n",
        "\n",
        "np.vstack([v1,v2,v1,v2])"
      ],
      "metadata": {
        "id": "2ehYjHfJAO-e"
      },
      "execution_count": null,
      "outputs": []
    },
    {
      "cell_type": "code",
      "source": [
        "# Horizontal stacking vectores\n",
        "h1 = np.ones((2,4))\n",
        "h2 = np.zeros((2,2))\n",
        "print(h1)\n",
        "print(h2)\n",
        "\n",
        "np.hstack((h1,h2))"
      ],
      "metadata": {
        "id": "ZlYVTOlkiXNx"
      },
      "execution_count": null,
      "outputs": []
    },
    {
      "cell_type": "markdown",
      "source": [
        "## Miscellaneos\n",
        "\n",
        "Load Data from file"
      ],
      "metadata": {
        "id": "AVfe2B2qi5v2"
      }
    },
    {
      "cell_type": "code",
      "source": [
        "# filedata = np.genfromtxt('nome do arquivo', delimiters=',')"
      ],
      "metadata": {
        "id": "t9kolgvvi--O"
      },
      "execution_count": null,
      "outputs": []
    },
    {
      "cell_type": "code",
      "source": [
        "np.array([[1,2,3,4],[5,6,7,8]])"
      ],
      "metadata": {
        "id": "RJQ8fQ4LjoaF"
      },
      "execution_count": null,
      "outputs": []
    },
    {
      "cell_type": "code",
      "source": [
        "a = np.arange(1,31)\n",
        "b = a.reshape((6,5))\n",
        "#print(b)\n",
        "print(b[2:4,0:2])\n",
        "#print(b[[0,1,2,3],[1,2,3,4]])\n",
        "#print(b[[0,4,5],3:])"
      ],
      "metadata": {
        "id": "ou0CRkI1kQBk"
      },
      "execution_count": null,
      "outputs": []
    }
  ]
}