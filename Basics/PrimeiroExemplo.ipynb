{
  "nbformat": 4,
  "nbformat_minor": 0,
  "metadata": {
    "colab": {
      "provenance": [],
      "toc_visible": true
    },
    "kernelspec": {
      "name": "python3",
      "display_name": "Python 3"
    },
    "language_info": {
      "name": "python"
    }
  },
  "cells": [
    {
      "cell_type": "markdown",
      "source": [
        "# Exemplo de Regressão Linear\n",
        "\n",
        "Uso das bibliotecas PyTorch, Pandas, NumPy e Matplotlib"
      ],
      "metadata": {
        "id": "T3s6ov9hnkII"
      }
    },
    {
      "cell_type": "markdown",
      "source": [
        "Importa as biliotecas que serão usadas\n"
      ],
      "metadata": {
        "id": "3Jrp5DKSoHuQ"
      }
    },
    {
      "cell_type": "code",
      "source": [
        "import numpy as np\n",
        "import pandas as pd\n",
        "import matplotlib.pyplot as plt\n",
        "import torch\n",
        "import torch.nn as nn\n",
        "from torch.optim import SGD"
      ],
      "metadata": {
        "id": "Tu0jhc1ynwCB"
      },
      "execution_count": null,
      "outputs": []
    },
    {
      "cell_type": "markdown",
      "source": [
        "Gera dados fictícios para uma regressão linear"
      ],
      "metadata": {
        "id": "jtVjbDc-pIXf"
      }
    },
    {
      "cell_type": "code",
      "source": [
        "np.random.seed(42)\n",
        "X = 2 * np.random.rand(100, 1)\n",
        "y = 4 + 5 * X + np.random.randn(100, 1)"
      ],
      "metadata": {
        "id": "d4yx8pt5rSU2"
      },
      "execution_count": null,
      "outputs": []
    },
    {
      "cell_type": "code",
      "source": [
        "np.random.randn()"
      ],
      "metadata": {
        "id": "3argrLUb0H07"
      },
      "execution_count": null,
      "outputs": []
    },
    {
      "cell_type": "markdown",
      "source": [
        "Cria um DataFrame usando Pandas"
      ],
      "metadata": {
        "id": "Qt4KZH9QscXc"
      }
    },
    {
      "cell_type": "code",
      "source": [
        "df = pd.DataFrame(data=np.concatenate([X, y], axis=1), columns=['X', 'y'])"
      ],
      "metadata": {
        "id": "Ung6C9MOsd7d"
      },
      "execution_count": null,
      "outputs": []
    },
    {
      "cell_type": "markdown",
      "source": [
        "Visualiza os dados usando Matplotlib"
      ],
      "metadata": {
        "id": "nVIyTDiPsk3W"
      }
    },
    {
      "cell_type": "code",
      "source": [
        "plt.scatter(df['X'],df['y'])\n",
        "plt.title('Dados de Exemplo')\n",
        "plt.xlabel('X')\n",
        "plt.ylabel('y')\n",
        "plt.show()"
      ],
      "metadata": {
        "id": "JG9U93hMsjCt"
      },
      "execution_count": null,
      "outputs": []
    },
    {
      "cell_type": "markdown",
      "source": [
        "Converte os dados para tensores do PyTorch"
      ],
      "metadata": {
        "id": "YsJ8U9fav1XH"
      }
    },
    {
      "cell_type": "code",
      "source": [
        "X_tensor = torch.tensor(df['X'].values, dtype=torch.float32).view(-1, 1)\n",
        "y_tensor = torch.tensor(df['y'].values, dtype=torch.float32).view(-1, 1)"
      ],
      "metadata": {
        "id": "jEZI_Ntjv534"
      },
      "execution_count": null,
      "outputs": []
    },
    {
      "cell_type": "markdown",
      "source": [
        "Define um modelo de regressão linear usando PyTorch"
      ],
      "metadata": {
        "id": "v_-OPHrHxO3X"
      }
    },
    {
      "cell_type": "code",
      "source": [
        "class LinearRegressionModel(nn.Module):\n",
        "    def __init__(self):\n",
        "        super(LinearRegressionModel, self).__init__()\n",
        "        self.linear = nn.Linear(1, 1)\n",
        "\n",
        "    def forward(self, x):\n",
        "        return self.linear(x)\n",
        "\n",
        "model = LinearRegressionModel()"
      ],
      "metadata": {
        "id": "dgsWjYCuxV8K"
      },
      "execution_count": null,
      "outputs": []
    },
    {
      "cell_type": "markdown",
      "source": [
        "Define a função de perda e o otimizador usando PyTorch"
      ],
      "metadata": {
        "id": "oqi0jPDsx-wa"
      }
    },
    {
      "cell_type": "code",
      "source": [
        "criterion = nn.MSELoss()\n",
        "optimizer = SGD(model.parameters(), lr=0.01)"
      ],
      "metadata": {
        "id": "HIaGNn5GyAoD"
      },
      "execution_count": null,
      "outputs": []
    },
    {
      "cell_type": "markdown",
      "source": [
        "Treina o modelo"
      ],
      "metadata": {
        "id": "Xh022tNUyDv0"
      }
    },
    {
      "cell_type": "code",
      "source": [
        "num_epochs = 100\n",
        "for epoch in range(num_epochs):\n",
        "    # Forward pass\n",
        "    outputs = model(X_tensor)\n",
        "    loss = criterion(outputs, y_tensor)\n",
        "\n",
        "    # Backward pass e otimização\n",
        "    optimizer.zero_grad()\n",
        "    loss.backward()\n",
        "    optimizer.step()"
      ],
      "metadata": {
        "id": "4P_PARoYynYR"
      },
      "execution_count": null,
      "outputs": []
    },
    {
      "cell_type": "markdown",
      "source": [
        "Visualiza os resultados usando Matplotlib"
      ],
      "metadata": {
        "id": "5eL0BpWnyoqF"
      }
    },
    {
      "cell_type": "code",
      "source": [
        "plt.scatter(df['X'], df['y'], label='Dados Originais')\n",
        "plt.plot(df['X'], model(X_tensor).detach().numpy(), color='red', label='Regressão Linear')\n",
        "plt.title('Regressão Linear com PyTorch')\n",
        "plt.xlabel('X')\n",
        "plt.ylabel('y')\n",
        "plt.legend()\n",
        "plt.show()"
      ],
      "metadata": {
        "id": "x5jNnG3LysMg"
      },
      "execution_count": null,
      "outputs": []
    }
  ]
}